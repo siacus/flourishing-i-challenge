{
 "cells": [
  {
   "cell_type": "markdown",
   "id": "8f724d64",
   "metadata": {},
   "source": [
    "Install libraries as needed"
   ]
  },
  {
   "cell_type": "code",
   "execution_count": null,
   "id": "cf02d1c5",
   "metadata": {},
   "outputs": [],
   "source": [
    "%pip install geopandas matplotlib datasets"
   ]
  },
  {
   "cell_type": "code",
   "execution_count": null,
   "id": "b47b1600",
   "metadata": {},
   "outputs": [],
   "source": [
    "import geopandas as gpd\n",
    "import pandas as pd\n",
    "import matplotlib.pyplot as plt\n",
    "from datasets import load_dataset\n"
   ]
  },
  {
   "cell_type": "markdown",
   "id": "b6d3319a",
   "metadata": {},
   "source": []
  },
  {
   "cell_type": "markdown",
   "id": "3628c329",
   "metadata": {},
   "source": [
    "-----------------------------\n",
    "Load data from Hugging Face"
   ]
  },
  {
   "cell_type": "markdown",
   "id": "2bdeba5a",
   "metadata": {},
   "source": [
    "-----------------------------"
   ]
  },
  {
   "cell_type": "code",
   "execution_count": null,
   "id": "b1682abc",
   "metadata": {},
   "outputs": [],
   "source": [
    "state_ds = load_dataset(\"siacus/flourishing\", data_files=\"flourishingStateYear.parquet\")\n",
    "county_ds = load_dataset(\"siacus/flourishing\", data_files=\"flourishingCountyYear.parquet\")\n",
    "\n",
    "state_df = state_ds[\"train\"].to_pandas()\n",
    "county_df = county_ds[\"train\"].to_pandas()\n"
   ]
  },
  {
   "cell_type": "markdown",
   "id": "673c0316",
   "metadata": {},
   "source": [
    "-----------------------------\n",
    "Filter for happiness and specific year"
   ]
  },
  {
   "cell_type": "markdown",
   "id": "3cfb61ed",
   "metadata": {},
   "source": [
    "-----------------------------"
   ]
  },
  {
   "cell_type": "code",
   "execution_count": null,
   "id": "0178764b",
   "metadata": {},
   "outputs": [],
   "source": [
    "var = \"happiness\"\n",
    "yr = 2012\n",
    "\n",
    "state_plot = state_df[(state_df[\"variable\"] == var) & (state_df[\"year\"] == yr)].copy()\n",
    "county_plot = county_df[(county_df[\"variable\"] == var) & (county_df[\"year\"] == yr)].copy()\n",
    "\n",
    "state_plot[\"FIPS\"] = state_plot[\"FIPS\"].apply(lambda x: f\"{int(x):02d}\")\n",
    "county_plot[\"FIPS_county\"] = county_plot[\"FIPS_county\"].apply(lambda x: f\"{int(x):05d}\")\n"
   ]
  },
  {
   "cell_type": "markdown",
   "id": "5843a123",
   "metadata": {},
   "source": [
    "-----------------------------\n",
    "Load shapefiles"
   ]
  },
  {
   "cell_type": "markdown",
   "id": "0499646f",
   "metadata": {},
   "source": [
    "-----------------------------\n",
    "US State and County boundaries"
   ]
  },
  {
   "cell_type": "markdown",
   "id": "9f0b2633",
   "metadata": {},
   "source": [
    "Remove AK, HI, PR"
   ]
  },
  {
   "cell_type": "code",
   "execution_count": null,
   "id": "4c71b6f1",
   "metadata": {},
   "outputs": [],
   "source": [
    "states = gpd.read_file(\"https://www2.census.gov/geo/tiger/GENZ2021/shp/cb_2021_us_state_20m.zip\")\n",
    "counties = gpd.read_file(\"https://www2.census.gov/geo/tiger/GENZ2021/shp/cb_2021_us_county_20m.zip\")\n",
    "\n",
    "states = states[~states[\"STUSPS\"].isin([\"AK\", \"HI\", \"PR\"])]\n",
    "counties = counties[~counties[\"STATEFP\"].isin([\"02\", \"15\", \"72\"])]\n"
   ]
  },
  {
   "cell_type": "markdown",
   "id": "1bbf88d0",
   "metadata": {},
   "source": [
    "-----------------------------\n",
    "Merge with flourishing data"
   ]
  },
  {
   "cell_type": "markdown",
   "id": "24bc1d41",
   "metadata": {},
   "source": [
    "-----------------------------"
   ]
  },
  {
   "cell_type": "code",
   "execution_count": null,
   "id": "115336a5",
   "metadata": {},
   "outputs": [],
   "source": [
    "states[\"FIPS\"] = states[\"STATEFP\"]\n",
    "state_map = states.merge(state_plot, on=\"FIPS\", how=\"left\")\n",
    "\n",
    "counties[\"FIPS_county\"] = counties[\"STATEFP\"] + counties[\"COUNTYFP\"]\n",
    "county_map = counties.merge(county_plot, on=\"FIPS_county\", how=\"left\")\n"
   ]
  },
  {
   "cell_type": "markdown",
   "id": "defb1a5b",
   "metadata": {},
   "source": [
    "-----------------------------\n",
    "Plot maps side by side"
   ]
  },
  {
   "cell_type": "markdown",
   "id": "901e0f0c",
   "metadata": {},
   "source": [
    "-----------------------------"
   ]
  },
  {
   "cell_type": "markdown",
   "id": "e5cd4ba6",
   "metadata": {},
   "source": [
    "State-level map"
   ]
  },
  {
   "cell_type": "markdown",
   "id": "d84779ae",
   "metadata": {},
   "source": [
    "County-level map"
   ]
  },
  {
   "cell_type": "code",
   "execution_count": null,
   "id": "52c90cf8",
   "metadata": {},
   "outputs": [],
   "source": [
    "fig, axes = plt.subplots(1, 2, figsize=(18, 8))\n",
    "\n",
    "state_map.plot(\n",
    "    column=\"stat\",\n",
    "    cmap=\"plasma\",\n",
    "    linewidth=0.1,\n",
    "    ax=axes[0],\n",
    "    edgecolor=\"white\",\n",
    "    missing_kwds={\"color\": \"lightgrey\"}\n",
    ")\n",
    "axes[0].set_title(f\"Happiness Stat by State - {yr}\")\n",
    "axes[0].axis(\"off\")\n",
    "\n",
    "county_map.plot(\n",
    "    column=\"stat\",\n",
    "    cmap=\"plasma\",\n",
    "    linewidth=0,\n",
    "    ax=axes[1],\n",
    "    edgecolor=\"white\",\n",
    "    missing_kwds={\"color\": \"lightgrey\"}\n",
    ")\n",
    "axes[1].set_title(f\"Happiness Stat by County - {yr}\")\n",
    "axes[1].axis(\"off\")\n",
    "\n",
    "plt.tight_layout()\n",
    "plt.show()"
   ]
  }
 ],
 "metadata": {
  "kernelspec": {
   "display_name": "maps",
   "language": "python",
   "name": "python3"
  },
  "language_info": {
   "codemirror_mode": {
    "name": "ipython",
    "version": 3
   },
   "file_extension": ".py",
   "mimetype": "text/x-python",
   "name": "python",
   "nbconvert_exporter": "python",
   "pygments_lexer": "ipython3",
   "version": "3.10.16"
  }
 },
 "nbformat": 4,
 "nbformat_minor": 5
}
