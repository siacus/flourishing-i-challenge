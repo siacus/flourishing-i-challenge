{
 "cells": [
  {
   "cell_type": "markdown",
   "id": "8f724d64",
   "metadata": {},
   "source": [
    "Install libraries as needed"
   ]
  },
  {
   "cell_type": "code",
   "execution_count": 9,
   "id": "cf02d1c5",
   "metadata": {},
   "outputs": [
    {
     "name": "stdout",
     "output_type": "stream",
     "text": [
      "Requirement already satisfied: geopandas in /Users/jago/miniconda3/envs/jago/lib/python3.10/site-packages (1.0.1)\n",
      "Requirement already satisfied: matplotlib in /Users/jago/miniconda3/envs/jago/lib/python3.10/site-packages (3.8.4)\n",
      "Requirement already satisfied: datasets in /Users/jago/miniconda3/envs/jago/lib/python3.10/site-packages (2.20.0)\n",
      "Requirement already satisfied: numpy>=1.22 in /Users/jago/miniconda3/envs/jago/lib/python3.10/site-packages (from geopandas) (1.26.4)\n",
      "Requirement already satisfied: pyogrio>=0.7.2 in /Users/jago/miniconda3/envs/jago/lib/python3.10/site-packages (from geopandas) (0.10.0)\n",
      "Requirement already satisfied: packaging in /Users/jago/miniconda3/envs/jago/lib/python3.10/site-packages (from geopandas) (24.1)\n",
      "Requirement already satisfied: pandas>=1.4.0 in /Users/jago/miniconda3/envs/jago/lib/python3.10/site-packages (from geopandas) (2.2.2)\n",
      "Requirement already satisfied: pyproj>=3.3.0 in /Users/jago/miniconda3/envs/jago/lib/python3.10/site-packages (from geopandas) (3.7.1)\n",
      "Requirement already satisfied: shapely>=2.0.0 in /Users/jago/miniconda3/envs/jago/lib/python3.10/site-packages (from geopandas) (2.1.0)\n",
      "Requirement already satisfied: contourpy>=1.0.1 in /Users/jago/miniconda3/envs/jago/lib/python3.10/site-packages (from matplotlib) (1.2.1)\n",
      "Requirement already satisfied: cycler>=0.10 in /Users/jago/miniconda3/envs/jago/lib/python3.10/site-packages (from matplotlib) (0.12.1)\n",
      "Requirement already satisfied: fonttools>=4.22.0 in /Users/jago/miniconda3/envs/jago/lib/python3.10/site-packages (from matplotlib) (4.52.4)\n",
      "Requirement already satisfied: kiwisolver>=1.3.1 in /Users/jago/miniconda3/envs/jago/lib/python3.10/site-packages (from matplotlib) (1.4.5)\n",
      "Requirement already satisfied: pillow>=8 in /Users/jago/miniconda3/envs/jago/lib/python3.10/site-packages (from matplotlib) (10.3.0)\n",
      "Requirement already satisfied: pyparsing>=2.3.1 in /Users/jago/miniconda3/envs/jago/lib/python3.10/site-packages (from matplotlib) (3.1.2)\n",
      "Requirement already satisfied: python-dateutil>=2.7 in /Users/jago/miniconda3/envs/jago/lib/python3.10/site-packages (from matplotlib) (2.9.0.post0)\n",
      "Requirement already satisfied: filelock in /Users/jago/miniconda3/envs/jago/lib/python3.10/site-packages (from datasets) (3.15.1)\n",
      "Requirement already satisfied: pyarrow>=15.0.0 in /Users/jago/miniconda3/envs/jago/lib/python3.10/site-packages (from datasets) (16.1.0)\n",
      "Requirement already satisfied: pyarrow-hotfix in /Users/jago/miniconda3/envs/jago/lib/python3.10/site-packages (from datasets) (0.6)\n",
      "Requirement already satisfied: dill<0.3.9,>=0.3.0 in /Users/jago/miniconda3/envs/jago/lib/python3.10/site-packages (from datasets) (0.3.8)\n",
      "Requirement already satisfied: requests>=2.32.2 in /Users/jago/miniconda3/envs/jago/lib/python3.10/site-packages (from datasets) (2.32.3)\n",
      "Requirement already satisfied: tqdm>=4.66.3 in /Users/jago/miniconda3/envs/jago/lib/python3.10/site-packages (from datasets) (4.66.4)\n",
      "Requirement already satisfied: xxhash in /Users/jago/miniconda3/envs/jago/lib/python3.10/site-packages (from datasets) (3.4.1)\n",
      "Requirement already satisfied: multiprocess in /Users/jago/miniconda3/envs/jago/lib/python3.10/site-packages (from datasets) (0.70.16)\n",
      "Requirement already satisfied: fsspec<=2024.5.0,>=2023.1.0 in /Users/jago/miniconda3/envs/jago/lib/python3.10/site-packages (from fsspec[http]<=2024.5.0,>=2023.1.0->datasets) (2024.5.0)\n",
      "Requirement already satisfied: aiohttp in /Users/jago/miniconda3/envs/jago/lib/python3.10/site-packages (from datasets) (3.9.5)\n",
      "Requirement already satisfied: huggingface-hub>=0.21.2 in /Users/jago/miniconda3/envs/jago/lib/python3.10/site-packages (from datasets) (0.23.4)\n",
      "Requirement already satisfied: pyyaml>=5.1 in /Users/jago/miniconda3/envs/jago/lib/python3.10/site-packages (from datasets) (6.0.1)\n",
      "Requirement already satisfied: aiosignal>=1.1.2 in /Users/jago/miniconda3/envs/jago/lib/python3.10/site-packages (from aiohttp->datasets) (1.3.1)\n",
      "Requirement already satisfied: attrs>=17.3.0 in /Users/jago/miniconda3/envs/jago/lib/python3.10/site-packages (from aiohttp->datasets) (23.2.0)\n",
      "Requirement already satisfied: frozenlist>=1.1.1 in /Users/jago/miniconda3/envs/jago/lib/python3.10/site-packages (from aiohttp->datasets) (1.4.1)\n",
      "Requirement already satisfied: multidict<7.0,>=4.5 in /Users/jago/miniconda3/envs/jago/lib/python3.10/site-packages (from aiohttp->datasets) (6.0.5)\n",
      "Requirement already satisfied: yarl<2.0,>=1.0 in /Users/jago/miniconda3/envs/jago/lib/python3.10/site-packages (from aiohttp->datasets) (1.9.4)\n",
      "Requirement already satisfied: async-timeout<5.0,>=4.0 in /Users/jago/miniconda3/envs/jago/lib/python3.10/site-packages (from aiohttp->datasets) (4.0.3)\n",
      "Requirement already satisfied: typing-extensions>=3.7.4.3 in /Users/jago/miniconda3/envs/jago/lib/python3.10/site-packages (from huggingface-hub>=0.21.2->datasets) (4.12.2)\n",
      "Requirement already satisfied: pytz>=2020.1 in /Users/jago/miniconda3/envs/jago/lib/python3.10/site-packages (from pandas>=1.4.0->geopandas) (2024.1)\n",
      "Requirement already satisfied: tzdata>=2022.7 in /Users/jago/miniconda3/envs/jago/lib/python3.10/site-packages (from pandas>=1.4.0->geopandas) (2024.1)\n",
      "Requirement already satisfied: certifi in /Users/jago/miniconda3/envs/jago/lib/python3.10/site-packages (from pyogrio>=0.7.2->geopandas) (2024.6.2)\n",
      "Requirement already satisfied: six>=1.5 in /Users/jago/miniconda3/envs/jago/lib/python3.10/site-packages (from python-dateutil>=2.7->matplotlib) (1.16.0)\n",
      "Requirement already satisfied: charset-normalizer<4,>=2 in /Users/jago/miniconda3/envs/jago/lib/python3.10/site-packages (from requests>=2.32.2->datasets) (3.3.2)\n",
      "Requirement already satisfied: idna<4,>=2.5 in /Users/jago/miniconda3/envs/jago/lib/python3.10/site-packages (from requests>=2.32.2->datasets) (3.7)\n",
      "Requirement already satisfied: urllib3<3,>=1.21.1 in /Users/jago/miniconda3/envs/jago/lib/python3.10/site-packages (from requests>=2.32.2->datasets) (2.2.2)\n",
      "Note: you may need to restart the kernel to use updated packages.\n"
     ]
    }
   ],
   "source": [
    "%pip install geopandas matplotlib datasets"
   ]
  },
  {
   "cell_type": "code",
   "execution_count": 10,
   "id": "b47b1600",
   "metadata": {},
   "outputs": [],
   "source": [
    "import geopandas as gpd\n",
    "import pandas as pd\n",
    "import matplotlib.pyplot as plt\n",
    "from datasets import load_dataset\n"
   ]
  },
  {
   "cell_type": "markdown",
   "id": "b6d3319a",
   "metadata": {},
   "source": []
  },
  {
   "cell_type": "markdown",
   "id": "3628c329",
   "metadata": {},
   "source": [
    "-----------------------------\n",
    "Load data from Hugging Face"
   ]
  },
  {
   "cell_type": "markdown",
   "id": "2bdeba5a",
   "metadata": {},
   "source": [
    "-----------------------------"
   ]
  },
  {
   "cell_type": "code",
   "execution_count": 11,
   "id": "b1682abc",
   "metadata": {},
   "outputs": [],
   "source": [
    "state_ds = load_dataset(\"siacus/flourishing\", data_files=\"flourishingStateYear.parquet\")\n",
    "county_ds = load_dataset(\"siacus/flourishing\", data_files=\"flourishingCountyYear.parquet\")\n",
    "\n",
    "state_df = state_ds[\"train\"].to_pandas()\n",
    "county_df = county_ds[\"train\"].to_pandas()\n"
   ]
  },
  {
   "cell_type": "markdown",
   "id": "673c0316",
   "metadata": {},
   "source": [
    "-----------------------------\n",
    "Filter for happiness and specific year"
   ]
  },
  {
   "cell_type": "markdown",
   "id": "3cfb61ed",
   "metadata": {},
   "source": [
    "-----------------------------"
   ]
  },
  {
   "cell_type": "code",
   "execution_count": 12,
   "id": "0178764b",
   "metadata": {},
   "outputs": [],
   "source": [
    "var = \"happiness\"\n",
    "yr = 2012\n",
    "\n",
    "state_plot = state_df[(state_df[\"variable\"] == var) & (state_df[\"year\"] == yr)].copy()\n",
    "county_plot = county_df[(county_df[\"variable\"] == var) & (county_df[\"year\"] == yr)].copy()\n",
    "\n",
    "state_plot[\"FIPS\"] = state_plot[\"FIPS\"].apply(lambda x: f\"{int(x):02d}\")\n",
    "county_plot[\"StateCounty\"] = county_plot[\"StateCounty\"].apply(lambda x: f\"{int(x):05d}\")\n"
   ]
  },
  {
   "cell_type": "markdown",
   "id": "5843a123",
   "metadata": {},
   "source": [
    "-----------------------------\n",
    "Load shapefiles"
   ]
  },
  {
   "cell_type": "markdown",
   "id": "0499646f",
   "metadata": {},
   "source": [
    "-----------------------------\n",
    "US State and County boundaries"
   ]
  },
  {
   "cell_type": "markdown",
   "id": "9f0b2633",
   "metadata": {},
   "source": [
    "Remove AK, HI, PR"
   ]
  },
  {
   "cell_type": "code",
   "execution_count": null,
   "id": "4c71b6f1",
   "metadata": {},
   "outputs": [
    {
     "ename": "HTTPError",
     "evalue": "HTTP Error 403: Forbidden",
     "output_type": "error",
     "traceback": [
      "\u001b[0;31m---------------------------------------------------------------------------\u001b[0m",
      "\u001b[0;31mHTTPError\u001b[0m                                 Traceback (most recent call last)",
      "Cell \u001b[0;32mIn[14], line 1\u001b[0m\n\u001b[0;32m----> 1\u001b[0m states \u001b[38;5;241m=\u001b[39m \u001b[43mgpd\u001b[49m\u001b[38;5;241;43m.\u001b[39;49m\u001b[43mread_file\u001b[49m\u001b[43m(\u001b[49m\u001b[38;5;124;43m\"\u001b[39;49m\u001b[38;5;124;43mhttps://www2.census.gov/geo/tiger/GENZ2021/shp/cb_2021_us_state_20m.zip\u001b[39;49m\u001b[38;5;124;43m\"\u001b[39;49m\u001b[43m)\u001b[49m\n\u001b[1;32m      2\u001b[0m counties \u001b[38;5;241m=\u001b[39m gpd\u001b[38;5;241m.\u001b[39mread_file(\u001b[38;5;124m\"\u001b[39m\u001b[38;5;124mhttps://www2.census.gov/geo/tiger/GENZ2021/shp/cb_2021_us_county_20m.zip\u001b[39m\u001b[38;5;124m\"\u001b[39m)\n\u001b[1;32m      4\u001b[0m states \u001b[38;5;241m=\u001b[39m states[\u001b[38;5;241m~\u001b[39mstates[\u001b[38;5;124m\"\u001b[39m\u001b[38;5;124mSTUSPS\u001b[39m\u001b[38;5;124m\"\u001b[39m]\u001b[38;5;241m.\u001b[39misin([\u001b[38;5;124m\"\u001b[39m\u001b[38;5;124mAK\u001b[39m\u001b[38;5;124m\"\u001b[39m, \u001b[38;5;124m\"\u001b[39m\u001b[38;5;124mHI\u001b[39m\u001b[38;5;124m\"\u001b[39m, \u001b[38;5;124m\"\u001b[39m\u001b[38;5;124mPR\u001b[39m\u001b[38;5;124m\"\u001b[39m])]\n",
      "File \u001b[0;32m~/miniconda3/envs/jago/lib/python3.10/site-packages/geopandas/io/file.py:288\u001b[0m, in \u001b[0;36m_read_file\u001b[0;34m(filename, bbox, mask, columns, rows, engine, **kwargs)\u001b[0m\n\u001b[1;32m    282\u001b[0m from_bytes \u001b[38;5;241m=\u001b[39m \u001b[38;5;28;01mFalse\u001b[39;00m\n\u001b[1;32m    283\u001b[0m \u001b[38;5;28;01mif\u001b[39;00m _is_url(filename):\n\u001b[1;32m    284\u001b[0m     \u001b[38;5;66;03m# if it is a url that supports random access -> pass through to\u001b[39;00m\n\u001b[1;32m    285\u001b[0m     \u001b[38;5;66;03m# pyogrio/fiona as is (to support downloading only part of the file)\u001b[39;00m\n\u001b[1;32m    286\u001b[0m     \u001b[38;5;66;03m# otherwise still download manually because pyogrio/fiona don't support\u001b[39;00m\n\u001b[1;32m    287\u001b[0m     \u001b[38;5;66;03m# all types of urls (https://github.com/geopandas/geopandas/issues/2908)\u001b[39;00m\n\u001b[0;32m--> 288\u001b[0m     \u001b[38;5;28;01mwith\u001b[39;00m \u001b[43murllib\u001b[49m\u001b[38;5;241;43m.\u001b[39;49m\u001b[43mrequest\u001b[49m\u001b[38;5;241;43m.\u001b[39;49m\u001b[43murlopen\u001b[49m\u001b[43m(\u001b[49m\u001b[43mfilename\u001b[49m\u001b[43m)\u001b[49m \u001b[38;5;28;01mas\u001b[39;00m response:\n\u001b[1;32m    289\u001b[0m         \u001b[38;5;28;01mif\u001b[39;00m \u001b[38;5;129;01mnot\u001b[39;00m response\u001b[38;5;241m.\u001b[39mheaders\u001b[38;5;241m.\u001b[39mget(\u001b[38;5;124m\"\u001b[39m\u001b[38;5;124mAccept-Ranges\u001b[39m\u001b[38;5;124m\"\u001b[39m) \u001b[38;5;241m==\u001b[39m \u001b[38;5;124m\"\u001b[39m\u001b[38;5;124mbytes\u001b[39m\u001b[38;5;124m\"\u001b[39m:\n\u001b[1;32m    290\u001b[0m             filename \u001b[38;5;241m=\u001b[39m response\u001b[38;5;241m.\u001b[39mread()\n",
      "File \u001b[0;32m~/miniconda3/envs/jago/lib/python3.10/urllib/request.py:216\u001b[0m, in \u001b[0;36murlopen\u001b[0;34m(url, data, timeout, cafile, capath, cadefault, context)\u001b[0m\n\u001b[1;32m    214\u001b[0m \u001b[38;5;28;01melse\u001b[39;00m:\n\u001b[1;32m    215\u001b[0m     opener \u001b[38;5;241m=\u001b[39m _opener\n\u001b[0;32m--> 216\u001b[0m \u001b[38;5;28;01mreturn\u001b[39;00m \u001b[43mopener\u001b[49m\u001b[38;5;241;43m.\u001b[39;49m\u001b[43mopen\u001b[49m\u001b[43m(\u001b[49m\u001b[43murl\u001b[49m\u001b[43m,\u001b[49m\u001b[43m \u001b[49m\u001b[43mdata\u001b[49m\u001b[43m,\u001b[49m\u001b[43m \u001b[49m\u001b[43mtimeout\u001b[49m\u001b[43m)\u001b[49m\n",
      "File \u001b[0;32m~/miniconda3/envs/jago/lib/python3.10/urllib/request.py:525\u001b[0m, in \u001b[0;36mOpenerDirector.open\u001b[0;34m(self, fullurl, data, timeout)\u001b[0m\n\u001b[1;32m    523\u001b[0m \u001b[38;5;28;01mfor\u001b[39;00m processor \u001b[38;5;129;01min\u001b[39;00m \u001b[38;5;28mself\u001b[39m\u001b[38;5;241m.\u001b[39mprocess_response\u001b[38;5;241m.\u001b[39mget(protocol, []):\n\u001b[1;32m    524\u001b[0m     meth \u001b[38;5;241m=\u001b[39m \u001b[38;5;28mgetattr\u001b[39m(processor, meth_name)\n\u001b[0;32m--> 525\u001b[0m     response \u001b[38;5;241m=\u001b[39m \u001b[43mmeth\u001b[49m\u001b[43m(\u001b[49m\u001b[43mreq\u001b[49m\u001b[43m,\u001b[49m\u001b[43m \u001b[49m\u001b[43mresponse\u001b[49m\u001b[43m)\u001b[49m\n\u001b[1;32m    527\u001b[0m \u001b[38;5;28;01mreturn\u001b[39;00m response\n",
      "File \u001b[0;32m~/miniconda3/envs/jago/lib/python3.10/urllib/request.py:634\u001b[0m, in \u001b[0;36mHTTPErrorProcessor.http_response\u001b[0;34m(self, request, response)\u001b[0m\n\u001b[1;32m    631\u001b[0m \u001b[38;5;66;03m# According to RFC 2616, \"2xx\" code indicates that the client's\u001b[39;00m\n\u001b[1;32m    632\u001b[0m \u001b[38;5;66;03m# request was successfully received, understood, and accepted.\u001b[39;00m\n\u001b[1;32m    633\u001b[0m \u001b[38;5;28;01mif\u001b[39;00m \u001b[38;5;129;01mnot\u001b[39;00m (\u001b[38;5;241m200\u001b[39m \u001b[38;5;241m<\u001b[39m\u001b[38;5;241m=\u001b[39m code \u001b[38;5;241m<\u001b[39m \u001b[38;5;241m300\u001b[39m):\n\u001b[0;32m--> 634\u001b[0m     response \u001b[38;5;241m=\u001b[39m \u001b[38;5;28;43mself\u001b[39;49m\u001b[38;5;241;43m.\u001b[39;49m\u001b[43mparent\u001b[49m\u001b[38;5;241;43m.\u001b[39;49m\u001b[43merror\u001b[49m\u001b[43m(\u001b[49m\n\u001b[1;32m    635\u001b[0m \u001b[43m        \u001b[49m\u001b[38;5;124;43m'\u001b[39;49m\u001b[38;5;124;43mhttp\u001b[39;49m\u001b[38;5;124;43m'\u001b[39;49m\u001b[43m,\u001b[49m\u001b[43m \u001b[49m\u001b[43mrequest\u001b[49m\u001b[43m,\u001b[49m\u001b[43m \u001b[49m\u001b[43mresponse\u001b[49m\u001b[43m,\u001b[49m\u001b[43m \u001b[49m\u001b[43mcode\u001b[49m\u001b[43m,\u001b[49m\u001b[43m \u001b[49m\u001b[43mmsg\u001b[49m\u001b[43m,\u001b[49m\u001b[43m \u001b[49m\u001b[43mhdrs\u001b[49m\u001b[43m)\u001b[49m\n\u001b[1;32m    637\u001b[0m \u001b[38;5;28;01mreturn\u001b[39;00m response\n",
      "File \u001b[0;32m~/miniconda3/envs/jago/lib/python3.10/urllib/request.py:563\u001b[0m, in \u001b[0;36mOpenerDirector.error\u001b[0;34m(self, proto, *args)\u001b[0m\n\u001b[1;32m    561\u001b[0m \u001b[38;5;28;01mif\u001b[39;00m http_err:\n\u001b[1;32m    562\u001b[0m     args \u001b[38;5;241m=\u001b[39m (\u001b[38;5;28mdict\u001b[39m, \u001b[38;5;124m'\u001b[39m\u001b[38;5;124mdefault\u001b[39m\u001b[38;5;124m'\u001b[39m, \u001b[38;5;124m'\u001b[39m\u001b[38;5;124mhttp_error_default\u001b[39m\u001b[38;5;124m'\u001b[39m) \u001b[38;5;241m+\u001b[39m orig_args\n\u001b[0;32m--> 563\u001b[0m     \u001b[38;5;28;01mreturn\u001b[39;00m \u001b[38;5;28;43mself\u001b[39;49m\u001b[38;5;241;43m.\u001b[39;49m\u001b[43m_call_chain\u001b[49m\u001b[43m(\u001b[49m\u001b[38;5;241;43m*\u001b[39;49m\u001b[43margs\u001b[49m\u001b[43m)\u001b[49m\n",
      "File \u001b[0;32m~/miniconda3/envs/jago/lib/python3.10/urllib/request.py:496\u001b[0m, in \u001b[0;36mOpenerDirector._call_chain\u001b[0;34m(self, chain, kind, meth_name, *args)\u001b[0m\n\u001b[1;32m    494\u001b[0m \u001b[38;5;28;01mfor\u001b[39;00m handler \u001b[38;5;129;01min\u001b[39;00m handlers:\n\u001b[1;32m    495\u001b[0m     func \u001b[38;5;241m=\u001b[39m \u001b[38;5;28mgetattr\u001b[39m(handler, meth_name)\n\u001b[0;32m--> 496\u001b[0m     result \u001b[38;5;241m=\u001b[39m \u001b[43mfunc\u001b[49m\u001b[43m(\u001b[49m\u001b[38;5;241;43m*\u001b[39;49m\u001b[43margs\u001b[49m\u001b[43m)\u001b[49m\n\u001b[1;32m    497\u001b[0m     \u001b[38;5;28;01mif\u001b[39;00m result \u001b[38;5;129;01mis\u001b[39;00m \u001b[38;5;129;01mnot\u001b[39;00m \u001b[38;5;28;01mNone\u001b[39;00m:\n\u001b[1;32m    498\u001b[0m         \u001b[38;5;28;01mreturn\u001b[39;00m result\n",
      "File \u001b[0;32m~/miniconda3/envs/jago/lib/python3.10/urllib/request.py:643\u001b[0m, in \u001b[0;36mHTTPDefaultErrorHandler.http_error_default\u001b[0;34m(self, req, fp, code, msg, hdrs)\u001b[0m\n\u001b[1;32m    642\u001b[0m \u001b[38;5;28;01mdef\u001b[39;00m \u001b[38;5;21mhttp_error_default\u001b[39m(\u001b[38;5;28mself\u001b[39m, req, fp, code, msg, hdrs):\n\u001b[0;32m--> 643\u001b[0m     \u001b[38;5;28;01mraise\u001b[39;00m HTTPError(req\u001b[38;5;241m.\u001b[39mfull_url, code, msg, hdrs, fp)\n",
      "\u001b[0;31mHTTPError\u001b[0m: HTTP Error 403: Forbidden"
     ]
    }
   ],
   "source": [
    "# states = gpd.read_file(\"https://www2.census.gov/geo/tiger/GENZ2021/shp/cb_2021_us_state_20m.zip\")\n",
    "# counties = gpd.read_file(\"https://www2.census.gov/geo/tiger/GENZ2021/shp/cb_2021_us_county_20m.zip\")\n",
    "states = gpd.read_file(\"https://huggingface.co/datasets/siacus/flourishing/resolve/main/cb_2021_us_state_20m.zip\")\n",
    "counties = gpd.read_file(\"https://huggingface.co/datasets/siacus/flourishing/resolve/main/cb_2021_us_county_20m.zip\")\n",
    "\n",
    "states = states[~states[\"STUSPS\"].isin([\"AK\", \"HI\", \"PR\"])]\n",
    "counties = counties[~counties[\"STATEFP\"].isin([\"02\", \"15\", \"72\"])]\n"
   ]
  },
  {
   "cell_type": "markdown",
   "id": "1bbf88d0",
   "metadata": {},
   "source": [
    "-----------------------------\n",
    "Merge with flourishing data"
   ]
  },
  {
   "cell_type": "markdown",
   "id": "24bc1d41",
   "metadata": {},
   "source": [
    "-----------------------------"
   ]
  },
  {
   "cell_type": "code",
   "execution_count": 8,
   "id": "115336a5",
   "metadata": {},
   "outputs": [
    {
     "ename": "NameError",
     "evalue": "name 'states' is not defined",
     "output_type": "error",
     "traceback": [
      "\u001b[0;31m---------------------------------------------------------------------------\u001b[0m",
      "\u001b[0;31mNameError\u001b[0m                                 Traceback (most recent call last)",
      "Cell \u001b[0;32mIn[8], line 1\u001b[0m\n\u001b[0;32m----> 1\u001b[0m states[\u001b[38;5;124m\"\u001b[39m\u001b[38;5;124mFIPS\u001b[39m\u001b[38;5;124m\"\u001b[39m] \u001b[38;5;241m=\u001b[39m \u001b[43mstates\u001b[49m[\u001b[38;5;124m\"\u001b[39m\u001b[38;5;124mSTATEFP\u001b[39m\u001b[38;5;124m\"\u001b[39m]\n\u001b[1;32m      2\u001b[0m state_map \u001b[38;5;241m=\u001b[39m states\u001b[38;5;241m.\u001b[39mmerge(state_plot, on\u001b[38;5;241m=\u001b[39m\u001b[38;5;124m\"\u001b[39m\u001b[38;5;124mFIPS\u001b[39m\u001b[38;5;124m\"\u001b[39m, how\u001b[38;5;241m=\u001b[39m\u001b[38;5;124m\"\u001b[39m\u001b[38;5;124mleft\u001b[39m\u001b[38;5;124m\"\u001b[39m)\n\u001b[1;32m      4\u001b[0m counties[\u001b[38;5;124m\"\u001b[39m\u001b[38;5;124mStateCounty\u001b[39m\u001b[38;5;124m\"\u001b[39m] \u001b[38;5;241m=\u001b[39m counties[\u001b[38;5;124m\"\u001b[39m\u001b[38;5;124mSTATEFP\u001b[39m\u001b[38;5;124m\"\u001b[39m] \u001b[38;5;241m+\u001b[39m counties[\u001b[38;5;124m\"\u001b[39m\u001b[38;5;124mCOUNTYFP\u001b[39m\u001b[38;5;124m\"\u001b[39m]\n",
      "\u001b[0;31mNameError\u001b[0m: name 'states' is not defined"
     ]
    }
   ],
   "source": [
    "states[\"FIPS\"] = states[\"STATEFP\"]\n",
    "state_map = states.merge(state_plot, on=\"FIPS\", how=\"left\")\n",
    "\n",
    "counties[\"StateCounty\"] = counties[\"STATEFP\"] + counties[\"COUNTYFP\"]\n",
    "county_map = counties.merge(county_plot, on=\"StateCounty\", how=\"left\")\n"
   ]
  },
  {
   "cell_type": "markdown",
   "id": "defb1a5b",
   "metadata": {},
   "source": [
    "-----------------------------\n",
    "Plot maps side by side"
   ]
  },
  {
   "cell_type": "markdown",
   "id": "901e0f0c",
   "metadata": {},
   "source": [
    "-----------------------------"
   ]
  },
  {
   "cell_type": "markdown",
   "id": "e5cd4ba6",
   "metadata": {},
   "source": [
    "State-level map"
   ]
  },
  {
   "cell_type": "markdown",
   "id": "d84779ae",
   "metadata": {},
   "source": [
    "County-level map"
   ]
  },
  {
   "cell_type": "code",
   "execution_count": null,
   "id": "52c90cf8",
   "metadata": {},
   "outputs": [],
   "source": [
    "fig, axes = plt.subplots(1, 2, figsize=(18, 8))\n",
    "\n",
    "state_map.plot(\n",
    "    column=\"stat\",\n",
    "    cmap=\"plasma\",\n",
    "    linewidth=0.1,\n",
    "    ax=axes[0],\n",
    "    edgecolor=\"white\",\n",
    "    missing_kwds={\"color\": \"lightgrey\"}\n",
    ")\n",
    "axes[0].set_title(f\"Happiness Stat by State - {yr}\")\n",
    "axes[0].axis(\"off\")\n",
    "\n",
    "county_map.plot(\n",
    "    column=\"stat\",\n",
    "    cmap=\"plasma\",\n",
    "    linewidth=0,\n",
    "    ax=axes[1],\n",
    "    edgecolor=\"white\",\n",
    "    missing_kwds={\"color\": \"lightgrey\"}\n",
    ")\n",
    "axes[1].set_title(f\"Happiness Stat by County - {yr}\")\n",
    "axes[1].axis(\"off\")\n",
    "\n",
    "plt.tight_layout()\n",
    "plt.show()"
   ]
  }
 ],
 "metadata": {
  "kernelspec": {
   "display_name": "jago",
   "language": "python",
   "name": "python3"
  },
  "language_info": {
   "codemirror_mode": {
    "name": "ipython",
    "version": 3
   },
   "file_extension": ".py",
   "mimetype": "text/x-python",
   "name": "python",
   "nbconvert_exporter": "python",
   "pygments_lexer": "ipython3",
   "version": "3.10.13"
  }
 },
 "nbformat": 4,
 "nbformat_minor": 5
}
