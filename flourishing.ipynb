{
 "cells": [
  {
   "cell_type": "markdown",
   "id": "8f724d64",
   "metadata": {},
   "source": [
    "**The Geography of Human Flourishing**\n",
    "\n",
    "Team of the __[Spatial AI-Challenge 2024](https://i-guide.io/spatial-ai-challenge-2024/)__ Spatial AI-Challenge 2024: Stefano Iacus, Devika Jain, Andrea Nasuto. \n",
    "Other co-authors related to this project: Giuseppe Porro, Marcello Carammia, Andrea Vezzulli.\n",
    "\n",
    "This notebook provides a comprehensive guide to generating, processing and visualizing the The Geography of Human Flourishing dataset at various geospatial and temporal scale. \n",
    "\n",
    "**Objectives**\n",
    "In this notebook, we will cover the full workflow, from data preparation to model training, including:\n",
    "\n",
    "***Data Description***: An overview of the input Twitter dataset, \n",
    "\n",
    "***Data Processing***: Steps for extracting and normalizing relevant data layers, stacking them into multi-channel arrays, and generating labeled patches for machine learning.\n",
    "\n",
    "***Example Usage***: A demonstration of how to map the  \n",
    "\n",
    "**What is Human Florushing?**\n",
    "\n",
    "__[The Human Flourishing Program](https://hfh.fas.harvard.edu/)__ is a research initiative whose goal is to study and promote human flourishing across a broad spectrum of life domains, integrating interdisciplinary research in social sciences, philosophy, psychology, and other fields. \n",
    "__[The Global Flourishing Study (GFS)](https://hfh.fas.harvard.edu/global-flourishing-study)__, a five-year traditional longitudinal data collection on approximately 200,000 participants from 20+ geographically and culturally diverse countries and territories, measures global human flourishing in six areas: Happiness and life satisfaction; Mental and physical health; Meaning and purpose; Character and virtue; Close social relationships and Material and financial stability.\n",
    "\n",
    "**Our Research**\n",
    "\n",
    "The Geography of Human Flourishing research plan is to analyze Harvard’s collection of 10 billion geolocated tweets from 2010 to mid-2023 in view of the six areas identified by the GFS. The project applies __[fine-tuned large language models (LLMs)](https://arxiv.org/abs/2411.00890)__ to extract 46 human flourishing dimensions across the six areas, generate high-resolution spatio-temporal indicators. The project will apply large language models, to extract 46 human flourishing dimensions across the six areas of human flourishing, generate high-resolution spatio-temporal indicators and produce interactive tools to visualize and analyze the result. For the Spatial AI-Challenge 2024, the project analyzes a subset of 2.2 billion tweets geolocalized in the USA and generates interactive visualization tools. Given the scalability challenge, this project analyzes in parallel also the so-called migration mood and the perception of corruption. Well-being, migration mood and corruption are topics that are tradionally studied in couples (migration mood vs happiness; migration and corruption; corruption and well-being). This research project will study the interplay of these three large areas of research.\n",
    "\n",
    "**Our Dataset**\n",
    "\n",
    "This notebook is designed to guide you through each step of the process, from data handling and preprocessing to building and evaluating a machine learning model for streamline delineation. By the end, you’ll have a structured dataset and a foundational model that you can expand upon for more complex geospatial analyses. "
   ]
  },
  {
   "cell_type": "code",
   "execution_count": null,
   "id": "a87a85da-3734-48ed-af02-40775eaf5eba",
   "metadata": {},
   "outputs": [],
   "source": []
  },
  {
   "cell_type": "code",
   "execution_count": null,
   "id": "fc0bc780-371b-4901-beb9-891d80550eb4",
   "metadata": {},
   "outputs": [],
   "source": [
    "Install libraries as needed"
   ]
  },
  {
   "cell_type": "code",
   "execution_count": null,
   "id": "cf02d1c5",
   "metadata": {},
   "outputs": [],
   "source": [
    "%pip install geopandas matplotlib datasets"
   ]
  },
  {
   "cell_type": "code",
   "execution_count": null,
   "id": "b47b1600",
   "metadata": {},
   "outputs": [],
   "source": [
    "import geopandas as gpd\n",
    "import pandas as pd\n",
    "import matplotlib.pyplot as plt\n",
    "from datasets import load_dataset\n"
   ]
  },
  {
   "cell_type": "markdown",
   "id": "b6d3319a",
   "metadata": {},
   "source": []
  },
  {
   "cell_type": "markdown",
   "id": "3628c329",
   "metadata": {},
   "source": [
    "-----------------------------\n",
    "Load data from Hugging Face"
   ]
  },
  {
   "cell_type": "markdown",
   "id": "2bdeba5a",
   "metadata": {},
   "source": [
    "-----------------------------"
   ]
  },
  {
   "cell_type": "code",
   "execution_count": null,
   "id": "b1682abc",
   "metadata": {},
   "outputs": [],
   "source": [
    "state_ds = load_dataset(\"siacus/flourishing\", data_files=\"flourishingStateYear.parquet\")\n",
    "county_ds = load_dataset(\"siacus/flourishing\", data_files=\"flourishingCountyYear.parquet\")\n",
    "\n",
    "state_df = state_ds[\"train\"].to_pandas()\n",
    "county_df = county_ds[\"train\"].to_pandas()\n"
   ]
  },
  {
   "cell_type": "markdown",
   "id": "673c0316",
   "metadata": {},
   "source": [
    "-----------------------------\n",
    "Filter for happiness and specific year"
   ]
  },
  {
   "cell_type": "markdown",
   "id": "3cfb61ed",
   "metadata": {},
   "source": [
    "-----------------------------"
   ]
  },
  {
   "cell_type": "code",
   "execution_count": null,
   "id": "0178764b",
   "metadata": {},
   "outputs": [],
   "source": [
    "var = \"migmood\"\n",
    "yr = 2020\n",
    "\n",
    "state_plot = state_df[(state_df[\"variable\"] == var) & (state_df[\"year\"] == yr)].copy()\n",
    "county_plot = county_df[(county_df[\"variable\"] == var) & (county_df[\"year\"] == yr)].copy()\n",
    "\n",
    "state_plot[\"FIPS\"] = state_plot[\"FIPS\"].apply(lambda x: f\"{int(x):02d}\")\n",
    "county_plot[\"StateCounty\"] = county_plot[\"StateCounty\"].apply(lambda x: f\"{int(x):05d}\")\n"
   ]
  },
  {
   "cell_type": "markdown",
   "id": "5843a123",
   "metadata": {},
   "source": [
    "-----------------------------\n",
    "Load shapefiles"
   ]
  },
  {
   "cell_type": "markdown",
   "id": "0499646f",
   "metadata": {},
   "source": [
    "-----------------------------\n",
    "US State and County boundaries"
   ]
  },
  {
   "cell_type": "markdown",
   "id": "9f0b2633",
   "metadata": {},
   "source": [
    "Remove AK, HI, PR"
   ]
  },
  {
   "cell_type": "code",
   "execution_count": null,
   "id": "4c71b6f1",
   "metadata": {},
   "outputs": [],
   "source": [
    "# states = gpd.read_file(\"https://www2.census.gov/geo/tiger/GENZ2021/shp/cb_2021_us_state_20m.zip\")\n",
    "# counties = gpd.read_file(\"https://www2.census.gov/geo/tiger/GENZ2021/shp/cb_2021_us_county_20m.zip\")\n",
    "states = gpd.read_file(\"https://huggingface.co/datasets/siacus/flourishing/resolve/main/cb_2021_us_state_20m.zip\")\n",
    "counties = gpd.read_file(\"https://huggingface.co/datasets/siacus/flourishing/resolve/main/cb_2021_us_county_20m.zip\")\n",
    "\n",
    "states = states[~states[\"STUSPS\"].isin([\"AK\", \"HI\", \"PR\"])]\n",
    "counties = counties[~counties[\"STATEFP\"].isin([\"02\", \"15\", \"72\"])]\n"
   ]
  },
  {
   "cell_type": "markdown",
   "id": "1bbf88d0",
   "metadata": {},
   "source": [
    "-----------------------------\n",
    "Merge with flourishing data"
   ]
  },
  {
   "cell_type": "markdown",
   "id": "24bc1d41",
   "metadata": {},
   "source": [
    "-----------------------------"
   ]
  },
  {
   "cell_type": "code",
   "execution_count": null,
   "id": "115336a5",
   "metadata": {},
   "outputs": [],
   "source": [
    "states[\"FIPS\"] = states[\"STATEFP\"]\n",
    "state_map = states.merge(state_plot, on=\"FIPS\", how=\"left\")\n",
    "\n",
    "counties[\"StateCounty\"] = counties[\"STATEFP\"] + counties[\"COUNTYFP\"]\n",
    "county_map = counties.merge(county_plot, on=\"StateCounty\", how=\"left\")\n"
   ]
  },
  {
   "cell_type": "markdown",
   "id": "defb1a5b",
   "metadata": {},
   "source": [
    "-----------------------------\n",
    "Plot maps side by side"
   ]
  },
  {
   "cell_type": "markdown",
   "id": "901e0f0c",
   "metadata": {},
   "source": [
    "-----------------------------"
   ]
  },
  {
   "cell_type": "markdown",
   "id": "e5cd4ba6",
   "metadata": {},
   "source": [
    "State-level map"
   ]
  },
  {
   "cell_type": "markdown",
   "id": "d84779ae",
   "metadata": {},
   "source": [
    "County-level map"
   ]
  },
  {
   "cell_type": "code",
   "execution_count": null,
   "id": "52c90cf8",
   "metadata": {},
   "outputs": [],
   "source": [
    "fig, axes = plt.subplots(1, 2, figsize=(18, 8))\n",
    "\n",
    "state_map.plot(\n",
    "    column=\"stat\",\n",
    "    cmap=\"plasma\",\n",
    "    linewidth=0.1,\n",
    "    ax=axes[0],\n",
    "    edgecolor=\"white\",\n",
    "    missing_kwds={\"color\": \"lightgrey\"}\n",
    ")\n",
    "axes[0].set_title(f\"Variable '{var}' by State - {yr}\")\n",
    "axes[0].axis(\"off\")\n",
    "\n",
    "county_map.plot(\n",
    "    column=\"stat\",\n",
    "    cmap=\"plasma\",\n",
    "    linewidth=0,\n",
    "    ax=axes[1],\n",
    "    edgecolor=\"white\",\n",
    "    missing_kwds={\"color\": \"lightgrey\"}\n",
    ")\n",
    "axes[1].set_title(f\"Variable '{var}' by County - {yr}\")\n",
    "axes[1].axis(\"off\")\n",
    "\n",
    "plt.tight_layout()\n",
    "plt.show()"
   ]
  }
 ],
 "metadata": {
  "kernelspec": {
   "display_name": "Python 3",
   "language": "python",
   "name": "python3"
  },
  "language_info": {
   "codemirror_mode": {
    "name": "ipython",
    "version": 3
   },
   "file_extension": ".py",
   "mimetype": "text/x-python",
   "name": "python",
   "nbconvert_exporter": "python",
   "pygments_lexer": "ipython3",
   "version": "3.8.8"
  }
 },
 "nbformat": 4,
 "nbformat_minor": 5
}
